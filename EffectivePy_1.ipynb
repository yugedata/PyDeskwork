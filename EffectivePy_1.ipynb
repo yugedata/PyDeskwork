{
 "cells": [
  {
   "cell_type": "code",
   "execution_count": 1,
   "metadata": {},
   "outputs": [
    {
     "name": "stdout",
     "output_type": "stream",
     "text": [
      "Version:  3.7.4 (default, Aug 13 2019, 15:17:50) \n",
      "[Clang 4.0.1 (tags/RELEASE_401/final)]\n",
      "Info:     sys.version_info(major=3, minor=7, micro=4, releaselevel='final', serial=0)\n"
     ]
    }
   ],
   "source": [
    "# [_Notes_]\n",
    "# order of importing: standard, third-party, my own\n",
    "# if PEP 8 in critical use Pylint to check it\n",
    "\n",
    "import sys\n",
    "print(\"Version: \", sys.version)\n",
    "print(\"Info:    \", sys.version_info)"
   ]
  },
  {
   "cell_type": "code",
   "execution_count": 2,
   "metadata": {},
   "outputs": [],
   "source": [
    "# [_Notes_]\n",
    "# (if a is not b)\n",
    "# _no_ (if line(someList) == 0) [_->_]  +yes_ (if not someList) or (if someLis)"
   ]
  },
  {
   "cell_type": "code",
   "execution_count": 3,
   "metadata": {},
   "outputs": [
    {
     "name": "stdout",
     "output_type": "stream",
     "text": [
      "binary  Example:  [72, 101, 108, 108, 111] b'Hello'\n",
      "unicode Example:  ['a', '̀', ' ', 'a', 'b', 'c'] à abc\n"
     ]
    }
   ],
   "source": [
    "# Difference between bytes and str\n",
    "# In python there are two types that rep sequences of character data\n",
    "# bytes: raw, ASCII, unsigned 8-bit values\n",
    "\n",
    "bin_str = b'H\\x65llo'\n",
    "print(\"binary  Example: \", list(bin_str), bin_str)\n",
    "uni_str = 'a\\u0300 abc'\n",
    "print(\"unicode Example: \", list(uni_str), uni_str)"
   ]
  },
  {
   "cell_type": "code",
   "execution_count": 33,
   "metadata": {},
   "outputs": [
    {
     "name": "stdout",
     "output_type": "stream",
     "text": [
      "'foo'\n",
      "'bar'\n"
     ]
    }
   ],
   "source": [
    "def to_str(bytes_or_str):\n",
    "    if isinstance(bytes_or_str, bytes):\n",
    "        value = bytes_or_str.decode('utf-8')\n",
    "    else:\n",
    "        value = bytes_or_str\n",
    "    return value\n",
    "        \n",
    "print(repr(to_str(b'foo')))\n",
    "print(repr(to_str('bar')))"
   ]
  },
  {
   "cell_type": "code",
   "execution_count": 27,
   "metadata": {},
   "outputs": [
    {
     "name": "stdout",
     "output_type": "stream",
     "text": [
      "b'foo'\n",
      "b'bar'\n"
     ]
    }
   ],
   "source": [
    "def to_byte(bytes_or_str):\n",
    "    if isinstance(bytes_or_str, str):\n",
    "        value = bytes_or_str.encode('utf-8')\n",
    "    else:\n",
    "        value = bytes_or_str\n",
    "    return value\n",
    "        \n",
    "print(repr(to_byte(b'foo')))\n",
    "print(repr(to_byte('bar')))"
   ]
  },
  {
   "cell_type": "code",
   "execution_count": 18,
   "metadata": {},
   "outputs": [
    {
     "name": "stdout",
     "output_type": "stream",
     "text": [
      "b'red blue'\n",
      "False\n",
      "red b'blue'\n"
     ]
    }
   ],
   "source": [
    "print(b'red %s' % b'blue')  # <-- can use operators\n",
    "print(b'foo' == 'foo')\n",
    "print('red %s' % b'blue')   # issue\n",
    "assert 'red' > 'blue'\n",
    "# assert b'red' > 'blue'     <-- cant use compare"
   ]
  },
  {
   "cell_type": "code",
   "execution_count": 39,
   "metadata": {},
   "outputs": [],
   "source": [
    "# read and write with binary data & files\n",
    "\n",
    "# !! pass encoding parameter to open()\n",
    "with open('data.bin', 'wb') as example_i:\n",
    "    example_i.write(b'\\xf1\\xf2\\xf3\\xf4\\xf5')\n",
    "    \n",
    "with open('data.bin', 'rb') as example_i:\n",
    "    data = example_i.read()\n",
    "\n",
    "assert data == b'\\xf1\\xf2\\xf3\\xf4\\xf5'"
   ]
  },
  {
   "cell_type": "code",
   "execution_count": 40,
   "metadata": {},
   "outputs": [
    {
     "name": "stdout",
     "output_type": "stream",
     "text": [
      "UTF-8\n"
     ]
    }
   ],
   "source": [
    "# check default encoding\n",
    "\n",
    "import locale\n",
    "print(locale.getpreferredencoding())"
   ]
  },
  {
   "cell_type": "code",
   "execution_count": 72,
   "metadata": {},
   "outputs": [
    {
     "name": "stdout",
     "output_type": "stream",
     "text": [
      "Bianry is 187, hex is 3162\n"
     ]
    }
   ],
   "source": [
    "# formatting a string\n",
    "\n",
    "a = 0b10111011\n",
    "b = 0xc5a\n",
    "print('Bianry is %d, hex is %d' % (a,b)) # tuple formatting"
   ]
  },
  {
   "cell_type": "code",
   "execution_count": 57,
   "metadata": {},
   "outputs": [
    {
     "name": "stdout",
     "output_type": "stream",
     "text": [
      "#0: tomato        = 1.99\n",
      "#1: bananas       = 3.50\n",
      "#2: cherry        = 2.20\n"
     ]
    }
   ],
   "source": [
    "# iterate array of tuples w/formatting old way\n",
    "\n",
    "pantry = [\n",
    "    ('tomato', 1.99),\n",
    "    ('bananas', 3.50),\n",
    "    ('cherry', 2.20)\n",
    "]\n",
    "for i, (item, count) in enumerate(pantry):\n",
    "    print('#%d: %-13s = %.2f' % (i, item, count))"
   ]
  },
  {
   "cell_type": "code",
   "execution_count": 51,
   "metadata": {},
   "outputs": [
    {
     "name": "stdout",
     "output_type": "stream",
     "text": [
      "I am HERE and HERE\n"
     ]
    }
   ],
   "source": [
    "# old vs new way of formatting string\n",
    "\n",
    "key = 'my_var'\n",
    "value = 1.234\n",
    "sentence = '' \n",
    "old_way = '%-10s = %.2f' % (key, value)\n",
    "\n",
    "new_way = '%(key)-10s = %(value).2f' % {'key': key, 'value': value}   # dictionary formatting\n",
    "reordered = '%(key)-10s = %(value).2f' % {'value': value, 'key': key} # dictionary formatting\n",
    "\n",
    "assert old_way == new_way == reordered\n",
    "\n",
    "# new way\n",
    "here = 'HERE'\n",
    "\n",
    "print('I am %(here)s and %(here)s' % {'here': here}) # dictionary formatting"
   ]
  },
  {
   "cell_type": "code",
   "execution_count": 65,
   "metadata": {},
   "outputs": [
    {
     "name": "stdout",
     "output_type": "stream",
     "text": [
      "The prices for the AMD 55 calls for the next 3 weeks are: \n",
      "\n",
      "week 0 = 2.36 \n",
      "week 1 = 4.80 \n",
      "week 2 = 6.01 \n",
      "\n"
     ]
    }
   ],
   "source": [
    "# ... old way ex 2 w/dictionaries\n",
    "\n",
    "AMD_55_call_options = {'week_0': 2.36,\n",
    "                       'week_1': 4.80,\n",
    "                       'week_2': 6.01}\n",
    "\n",
    "template = ('The prices for the AMD 55 calls for the next 3 weeks are: \\n\\n'\n",
    "            'week 0 = %(week_0).2f \\n'\n",
    "            'week 1 = %(week_1).2f \\n'\n",
    "            'week 2 = %(week_2).2f \\n')\n",
    "\n",
    "formatted = template % AMD_55_call_options\n",
    "print(formatted)"
   ]
  },
  {
   "cell_type": "code",
   "execution_count": 92,
   "metadata": {},
   "outputs": [
    {
     "name": "stdout",
     "output_type": "stream",
     "text": [
      "13,245,678.91\n",
      "a foobar  b foobar  c\n"
     ]
    }
   ],
   "source": [
    "# new way of formatting with format method of the str type\n",
    "#... instead of C-style dictionaries and %\n",
    "\n",
    "a = 13245678.9123456\n",
    "formatted = format(a, ',.2f')\n",
    "print(formatted)\n",
    "\n",
    "b = 'foobar'\n",
    "formatted = format(b, '^7s')\n",
    "print('a', formatted, 'b', formatted, 'c')"
   ]
  },
  {
   "cell_type": "code",
   "execution_count": 96,
   "metadata": {},
   "outputs": [
    {
     "name": "stdout",
     "output_type": "stream",
     "text": [
      "number is 1.234\n",
      "number        is also 1.23\n"
     ]
    }
   ],
   "source": [
    "foo = 'number'\n",
    "bar = 1.234\n",
    "\n",
    "formatted = '{} is {}'.format(foo, bar)\n",
    "print(formatted)\n",
    "\n",
    "formatted = '{:<13} is also {:.2f}'.format(foo, bar)\n",
    "print(formatted)"
   ]
  },
  {
   "cell_type": "code",
   "execution_count": 90,
   "metadata": {},
   "outputs": [],
   "source": [
    "# ! help() ! #\n",
    "# for all arguments in the placeholder {}\n",
    "#help('FORMATTING')"
   ]
  },
  {
   "cell_type": "code",
   "execution_count": 100,
   "metadata": {},
   "outputs": [
    {
     "name": "stdout",
     "output_type": "stream",
     "text": [
      "12.57%\n",
      "1.12 replaces {}\n"
     ]
    }
   ],
   "source": [
    "# old way\n",
    "print('%.2f%%' % 12.567)\n",
    "# new way\n",
    "print('{:.2f} replaces {{}}'.format(1.1234))"
   ]
  },
  {
   "cell_type": "code",
   "execution_count": null,
   "metadata": {},
   "outputs": [],
   "source": []
  },
  {
   "cell_type": "code",
   "execution_count": null,
   "metadata": {},
   "outputs": [],
   "source": []
  },
  {
   "cell_type": "code",
   "execution_count": null,
   "metadata": {},
   "outputs": [],
   "source": []
  },
  {
   "cell_type": "code",
   "execution_count": null,
   "metadata": {},
   "outputs": [],
   "source": []
  },
  {
   "cell_type": "code",
   "execution_count": null,
   "metadata": {},
   "outputs": [],
   "source": []
  },
  {
   "cell_type": "code",
   "execution_count": null,
   "metadata": {},
   "outputs": [],
   "source": []
  },
  {
   "cell_type": "code",
   "execution_count": null,
   "metadata": {},
   "outputs": [],
   "source": []
  },
  {
   "cell_type": "code",
   "execution_count": null,
   "metadata": {},
   "outputs": [],
   "source": []
  },
  {
   "cell_type": "code",
   "execution_count": null,
   "metadata": {},
   "outputs": [],
   "source": []
  },
  {
   "cell_type": "code",
   "execution_count": null,
   "metadata": {},
   "outputs": [],
   "source": []
  },
  {
   "cell_type": "code",
   "execution_count": null,
   "metadata": {},
   "outputs": [],
   "source": []
  },
  {
   "cell_type": "code",
   "execution_count": null,
   "metadata": {},
   "outputs": [],
   "source": []
  },
  {
   "cell_type": "code",
   "execution_count": null,
   "metadata": {},
   "outputs": [],
   "source": []
  },
  {
   "cell_type": "code",
   "execution_count": null,
   "metadata": {},
   "outputs": [],
   "source": []
  },
  {
   "cell_type": "code",
   "execution_count": null,
   "metadata": {},
   "outputs": [],
   "source": []
  },
  {
   "cell_type": "code",
   "execution_count": null,
   "metadata": {},
   "outputs": [],
   "source": []
  },
  {
   "cell_type": "code",
   "execution_count": null,
   "metadata": {},
   "outputs": [],
   "source": []
  },
  {
   "cell_type": "code",
   "execution_count": null,
   "metadata": {},
   "outputs": [],
   "source": []
  },
  {
   "cell_type": "code",
   "execution_count": null,
   "metadata": {},
   "outputs": [],
   "source": []
  },
  {
   "cell_type": "code",
   "execution_count": null,
   "metadata": {},
   "outputs": [],
   "source": []
  },
  {
   "cell_type": "code",
   "execution_count": null,
   "metadata": {},
   "outputs": [],
   "source": []
  },
  {
   "cell_type": "code",
   "execution_count": null,
   "metadata": {},
   "outputs": [],
   "source": []
  },
  {
   "cell_type": "code",
   "execution_count": null,
   "metadata": {},
   "outputs": [],
   "source": []
  },
  {
   "cell_type": "code",
   "execution_count": null,
   "metadata": {},
   "outputs": [],
   "source": []
  },
  {
   "cell_type": "code",
   "execution_count": null,
   "metadata": {},
   "outputs": [],
   "source": []
  },
  {
   "cell_type": "code",
   "execution_count": null,
   "metadata": {},
   "outputs": [],
   "source": []
  },
  {
   "cell_type": "code",
   "execution_count": null,
   "metadata": {},
   "outputs": [],
   "source": []
  },
  {
   "cell_type": "code",
   "execution_count": null,
   "metadata": {},
   "outputs": [],
   "source": []
  },
  {
   "cell_type": "code",
   "execution_count": null,
   "metadata": {},
   "outputs": [],
   "source": []
  },
  {
   "cell_type": "code",
   "execution_count": null,
   "metadata": {},
   "outputs": [],
   "source": []
  },
  {
   "cell_type": "code",
   "execution_count": null,
   "metadata": {},
   "outputs": [],
   "source": []
  },
  {
   "cell_type": "code",
   "execution_count": null,
   "metadata": {},
   "outputs": [],
   "source": []
  },
  {
   "cell_type": "code",
   "execution_count": null,
   "metadata": {},
   "outputs": [],
   "source": []
  },
  {
   "cell_type": "code",
   "execution_count": null,
   "metadata": {},
   "outputs": [],
   "source": []
  },
  {
   "cell_type": "code",
   "execution_count": null,
   "metadata": {},
   "outputs": [],
   "source": []
  },
  {
   "cell_type": "code",
   "execution_count": null,
   "metadata": {},
   "outputs": [],
   "source": []
  },
  {
   "cell_type": "code",
   "execution_count": null,
   "metadata": {},
   "outputs": [],
   "source": []
  },
  {
   "cell_type": "code",
   "execution_count": null,
   "metadata": {},
   "outputs": [],
   "source": []
  },
  {
   "cell_type": "code",
   "execution_count": null,
   "metadata": {},
   "outputs": [],
   "source": []
  },
  {
   "cell_type": "code",
   "execution_count": null,
   "metadata": {},
   "outputs": [],
   "source": []
  },
  {
   "cell_type": "code",
   "execution_count": null,
   "metadata": {},
   "outputs": [],
   "source": []
  },
  {
   "cell_type": "code",
   "execution_count": null,
   "metadata": {},
   "outputs": [],
   "source": []
  },
  {
   "cell_type": "code",
   "execution_count": null,
   "metadata": {},
   "outputs": [],
   "source": []
  }
 ],
 "metadata": {
  "kernelspec": {
   "display_name": "Python 3",
   "language": "python",
   "name": "python3"
  },
  "language_info": {
   "codemirror_mode": {
    "name": "ipython",
    "version": 3
   },
   "file_extension": ".py",
   "mimetype": "text/x-python",
   "name": "python",
   "nbconvert_exporter": "python",
   "pygments_lexer": "ipython3",
   "version": "3.7.4"
  }
 },
 "nbformat": 4,
 "nbformat_minor": 2
}
